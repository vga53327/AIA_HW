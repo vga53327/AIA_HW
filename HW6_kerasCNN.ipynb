{
 "cells": [
  {
   "cell_type": "code",
   "execution_count": 1,
   "metadata": {},
   "outputs": [
    {
     "name": "stderr",
     "output_type": "stream",
     "text": [
      "/opt/conda/lib/python3.6/site-packages/h5py/__init__.py:36: FutureWarning: Conversion of the second argument of issubdtype from `float` to `np.floating` is deprecated. In future, it will be treated as `np.float64 == np.dtype(float).type`.\n",
      "  from ._conv import register_converters as _register_converters\n",
      "Using TensorFlow backend.\n"
     ]
    }
   ],
   "source": [
    "import keras\n",
    "from keras.datasets import cifar10\n",
    "from keras.preprocessing.image import ImageDataGenerator\n",
    "from keras.models import Sequential, load_model\n",
    "from keras.layers import Dense, Dropout, Activation, Flatten\n",
    "from keras.layers import Conv2D, MaxPooling2D\n",
    "from keras.callbacks import EarlyStopping, ModelCheckpoint\n",
    "\n",
    "import matplotlib.pyplot as plt\n",
    "import os"
   ]
  },
  {
   "cell_type": "code",
   "execution_count": 2,
   "metadata": {},
   "outputs": [],
   "source": [
    "# import tensorflow as tf\n",
    "# os.environ[\"CUDA_VISIBLE_DEVICES\"] = \"\"\n",
    "# from keras.backend.tensorflow_backend import set_session\n",
    "# config = tf.ConfigProto()\n",
    "# config.gpu_options.per_process_gpu_memory_fraction = 1\n",
    "# set_session(tf.Session(config=config))"
   ]
  },
  {
   "cell_type": "code",
   "execution_count": 3,
   "metadata": {},
   "outputs": [],
   "source": [
    "(x_train, y_train),(x_test, y_test) = cifar10.load_data()"
   ]
  },
  {
   "cell_type": "code",
   "execution_count": 4,
   "metadata": {},
   "outputs": [
    {
     "name": "stdout",
     "output_type": "stream",
     "text": [
      "(50000, 32, 32, 3)\n",
      "50000\n",
      "10000\n"
     ]
    }
   ],
   "source": [
    "print(x_train.shape)\n",
    "print(x_train.shape[0])\n",
    "print(x_test.shape[0])"
   ]
  },
  {
   "cell_type": "code",
   "execution_count": 5,
   "metadata": {},
   "outputs": [
    {
     "data": {
      "text/plain": [
       "<matplotlib.image.AxesImage at 0x7f01f2c62588>"
      ]
     },
     "execution_count": 5,
     "metadata": {},
     "output_type": "execute_result"
    },
    {
     "data": {
      "image/png": "[encoded data removed]",
      "text/plain": [
       "<Figure size 432x288 with 1 Axes>"
      ]
     },
     "metadata": {
      "needs_background": "light"
     },
     "output_type": "display_data"
    }
   ],
   "source": [
    "plt.imshow(x_train[0])"
   ]
  },
  {
   "cell_type": "code",
   "execution_count": 6,
   "metadata": {},
   "outputs": [
    {
     "data": {
      "text/plain": [
       "<matplotlib.image.AxesImage at 0x7f01e335ea58>"
      ]
     },
     "execution_count": 6,
     "metadata": {},
     "output_type": "execute_result"
    },
    {
     "data": {
      "image/png": "[encoded data removed]",
      "text/plain": [
       "<Figure size 432x288 with 1 Axes>"
      ]
     },
     "metadata": {
      "needs_background": "light"
     },
     "output_type": "display_data"
    }
   ],
   "source": [
    "plt.imshow(x_test[0])"
   ]
  },
  {
   "cell_type": "code",
   "execution_count": 7,
   "metadata": {},
   "outputs": [],
   "source": [
    "batch_size = 128\n",
    "num_classes = 10\n",
    "epochs = 35\n",
    "save_dir = os.path.join(os.getcwd(), 'saved_models')\n",
    "model_name = 'keras_cifar10_trained_model.h5'"
   ]
  },
  {
   "cell_type": "code",
   "execution_count": 8,
   "metadata": {},
   "outputs": [],
   "source": [
    "# # Convert class vectors to binary class matrices.\n",
    "# y_train = keras.utils.to_categorical(y_train, num_classes)\n",
    "# y_test = keras.utils.to_categorical(y_test, num_classes)"
   ]
  },
  {
   "cell_type": "code",
   "execution_count": 9,
   "metadata": {},
   "outputs": [],
   "source": [
    "'''model'''\n",
    "model = Sequential()\n",
    "model.add(Conv2D(64,(3,3), padding='same', input_shape=x_train[0].shape))\n",
    "# model.add(Conv2D(64, (3, 3), padding='same',input_shape=x_train.shape[1:]))\n",
    "model.add(Activation('relu'))\n",
    "model.add(Conv2D(128, (3, 3)))\n",
    "model.add(Activation('relu'))\n",
    "model.add(MaxPooling2D(pool_size=(2, 2)))\n",
    "model.add(Dropout(0.25))"
   ]
  },
  {
   "cell_type": "code",
   "execution_count": 10,
   "metadata": {},
   "outputs": [],
   "source": [
    "model.add(Conv2D(64, (3, 3), padding='same'))\n",
    "model.add(Activation('relu'))\n",
    "model.add(Conv2D(64, (3, 3)))\n",
    "model.add(Activation('relu'))\n",
    "model.add(MaxPooling2D(pool_size=(2, 2)))\n",
    "model.add(Dropout(0.25))"
   ]
  },
  {
   "cell_type": "code",
   "execution_count": 11,
   "metadata": {},
   "outputs": [
    {
     "name": "stdout",
     "output_type": "stream",
     "text": [
      "_________________________________________________________________\n",
      "Layer (type)                 Output Shape              Param #   \n",
      "=================================================================\n",
      "conv2d_1 (Conv2D)            (None, 32, 32, 64)        1792      \n",
      "_________________________________________________________________\n",
      "activation_1 (Activation)    (None, 32, 32, 64)        0         \n",
      "_________________________________________________________________\n",
      "conv2d_2 (Conv2D)            (None, 30, 30, 128)       73856     \n",
      "_________________________________________________________________\n",
      "activation_2 (Activation)    (None, 30, 30, 128)       0         \n",
      "_________________________________________________________________\n",
      "max_pooling2d_1 (MaxPooling2 (None, 15, 15, 128)       0         \n",
      "_________________________________________________________________\n",
      "dropout_1 (Dropout)          (None, 15, 15, 128)       0         \n",
      "_________________________________________________________________\n",
      "conv2d_3 (Conv2D)            (None, 15, 15, 64)        73792     \n",
      "_________________________________________________________________\n",
      "activation_3 (Activation)    (None, 15, 15, 64)        0         \n",
      "_________________________________________________________________\n",
      "conv2d_4 (Conv2D)            (None, 13, 13, 64)        36928     \n",
      "_________________________________________________________________\n",
      "activation_4 (Activation)    (None, 13, 13, 64)        0         \n",
      "_________________________________________________________________\n",
      "max_pooling2d_2 (MaxPooling2 (None, 6, 6, 64)          0         \n",
      "_________________________________________________________________\n",
      "dropout_2 (Dropout)          (None, 6, 6, 64)          0         \n",
      "_________________________________________________________________\n",
      "flatten_1 (Flatten)          (None, 2304)              0         \n",
      "_________________________________________________________________\n",
      "dense_1 (Dense)              (None, 512)               1180160   \n",
      "_________________________________________________________________\n",
      "activation_5 (Activation)    (None, 512)               0         \n",
      "_________________________________________________________________\n",
      "dropout_3 (Dropout)          (None, 512)               0         \n",
      "_________________________________________________________________\n",
      "dense_2 (Dense)              (None, 10)                5130      \n",
      "_________________________________________________________________\n",
      "activation_6 (Activation)    (None, 10)                0         \n",
      "=================================================================\n",
      "Total params: 1,371,658\n",
      "Trainable params: 1,371,658\n",
      "Non-trainable params: 0\n",
      "_________________________________________________________________\n",
      "None\n"
     ]
    }
   ],
   "source": [
    "model.add(Flatten())\n",
    "model.add(Dense(512))\n",
    "model.add(Activation('relu'))\n",
    "model.add(Dropout(0.5))\n",
    "model.add(Dense(num_classes))\n",
    "model.add(Activation('softmax'))\n",
    "print(model.summary())"
   ]
  },
  {
   "cell_type": "code",
   "execution_count": 12,
   "metadata": {},
   "outputs": [],
   "source": [
    "# initiate Adam optimizer\n",
    "opt = keras.optimizers.Adam()\n",
    "\n",
    "# Let's train the model using Adam\n",
    "model.compile(loss='categorical_crossentropy',\n",
    "              optimizer=opt,\n",
    "              metrics=['accuracy'])\n",
    "\n",
    "x_train = x_train.astype('float32')\n",
    "x_test = x_test.astype('float32')\n",
    "x_train /= 255.\n",
    "x_test /= 255."
   ]
  },
  {
   "cell_type": "code",
   "execution_count": 13,
   "metadata": {},
   "outputs": [],
   "source": [
    "import numpy as np"
   ]
  },
  {
   "cell_type": "code",
   "execution_count": 14,
   "metadata": {},
   "outputs": [],
   "source": [
    "def one_hot_encode(x):\n",
    "    \"\"\"\n",
    "    One hot encode a list of sample labels. Return a one-hot encoded vector for each label.\n",
    "    : x: List of sample Labels\n",
    "    : return: Numpy array of one-hot encoded labels\n",
    "    \"\"\"\n",
    "    # TODO: Implement Function\n",
    "    # HINT: google \"np.eye\" or use label encoder from sklearn\n",
    "#     print(x)\n",
    "#     print(np.eye(10)[x])\n",
    "    return np.eye(10)[x]"
   ]
  },
  {
   "cell_type": "code",
   "execution_count": 15,
   "metadata": {},
   "outputs": [],
   "source": [
    "# (x_train, y_train),(x_test, y_test) = cifar10.load_data()"
   ]
  },
  {
   "cell_type": "code",
   "execution_count": 16,
   "metadata": {},
   "outputs": [],
   "source": [
    "y_train01 = y_train.reshape(1, -1)\n",
    "y_train01 = one_hot_encode(y_train01)\n",
    "\n",
    "y_test01 = y_test.reshape(1, -1)\n",
    "y_test01 = one_hot_encode(y_test01)"
   ]
  },
  {
   "cell_type": "code",
   "execution_count": 17,
   "metadata": {},
   "outputs": [
    {
     "name": "stdout",
     "output_type": "stream",
     "text": [
      "Using real-time data augmentation.\n"
     ]
    }
   ],
   "source": [
    "print('Using real-time data augmentation.')\n",
    "# This will do preprocessing and realtime data augmentation:\n",
    "datagen = ImageDataGenerator(\n",
    "    rotation_range=30,  # randomly rotate images in the range (degrees, 0 to 180)\n",
    "    width_shift_range=0.1,  # randomly shift images horizontally (fraction of total width)\n",
    "    height_shift_range=0.1,  # randomly shift images vertically (fraction of total height)\n",
    "    horizontal_flip=True,  # randomly flip images\n",
    "    vertical_flip=False)  # randomly flip images"
   ]
  },
  {
   "cell_type": "code",
   "execution_count": 18,
   "metadata": {},
   "outputs": [],
   "source": [
    "# Use ModelCheckpoint to save model and weights\n",
    "if not os.path.isdir(save_dir):\n",
    "    os.makedirs(save_dir)\n",
    "model_path = os.path.join(save_dir, model_name)\n",
    "checkpoint = ModelCheckpoint(model_path, monitor='val_loss', save_best_only=True, verbose=1)"
   ]
  },
  {
   "cell_type": "code",
   "execution_count": 19,
   "metadata": {},
   "outputs": [],
   "source": [
    "from tensorflow.keras.callbacks import EarlyStopping\n",
    "\n",
    "# earlystop\n",
    "earlystop = EarlyStopping(monitor='val_loss', patience=3)"
   ]
  },
  {
   "cell_type": "code",
   "execution_count": 20,
   "metadata": {},
   "outputs": [],
   "source": [
    "# model_history = model.fit(x_train, y_train01[0], \\\n",
    "#                           batch_size=batch_size, \\\n",
    "#                           epochs=epochs, \\\n",
    "# #                           shuffle=True, \\\n",
    "#                           validation_data=(x_test, y_test01[0]),\\\n",
    "#                           callbacks=[checkpoint, earlystop])"
   ]
  },
  {
   "cell_type": "code",
   "execution_count": 21,
   "metadata": {},
   "outputs": [
    {
     "name": "stdout",
     "output_type": "stream",
     "text": [
      "Epoch 1/35\n",
      "391/391 [==============================] - 19s 49ms/step - loss: 1.7710 - acc: 0.3473 - val_loss: 1.3747 - val_acc: 0.4980\n",
      "\n",
      "Epoch 00001: val_loss improved from inf to 1.37471, saving model to /home/jovyan/pyDL/tensoflow/HW6_kerasCNN/saved_models/keras_cifar10_trained_model.h5\n",
      "Epoch 2/35\n",
      "391/391 [==============================] - 17s 44ms/step - loss: 1.4080 - acc: 0.4906 - val_loss: 1.2351 - val_acc: 0.5593\n",
      "\n",
      "Epoch 00002: val_loss improved from 1.37471 to 1.23510, saving model to /home/jovyan/pyDL/tensoflow/HW6_kerasCNN/saved_models/keras_cifar10_trained_model.h5\n",
      "Epoch 3/35\n",
      "391/391 [==============================] - 17s 43ms/step - loss: 1.2544 - acc: 0.5501 - val_loss: 1.0974 - val_acc: 0.6081\n",
      "\n",
      "Epoch 00003: val_loss improved from 1.23510 to 1.09744, saving model to /home/jovyan/pyDL/tensoflow/HW6_kerasCNN/saved_models/keras_cifar10_trained_model.h5\n",
      "Epoch 4/35\n",
      "391/391 [==============================] - 17s 44ms/step - loss: 1.1581 - acc: 0.5893 - val_loss: 0.9858 - val_acc: 0.6495\n",
      "\n",
      "Epoch 00004: val_loss improved from 1.09744 to 0.98580, saving model to /home/jovyan/pyDL/tensoflow/HW6_kerasCNN/saved_models/keras_cifar10_trained_model.h5\n",
      "Epoch 5/35\n",
      "391/391 [==============================] - 17s 44ms/step - loss: 1.1074 - acc: 0.6054 - val_loss: 0.9699 - val_acc: 0.6566\n",
      "\n",
      "Epoch 00005: val_loss improved from 0.98580 to 0.96987, saving model to /home/jovyan/pyDL/tensoflow/HW6_kerasCNN/saved_models/keras_cifar10_trained_model.h5\n",
      "Epoch 6/35\n",
      "391/391 [==============================] - 17s 44ms/step - loss: 1.0558 - acc: 0.6272 - val_loss: 0.8612 - val_acc: 0.7001\n",
      "\n",
      "Epoch 00006: val_loss improved from 0.96987 to 0.86121, saving model to /home/jovyan/pyDL/tensoflow/HW6_kerasCNN/saved_models/keras_cifar10_trained_model.h5\n",
      "Epoch 7/35\n",
      "391/391 [==============================] - 17s 44ms/step - loss: 1.0167 - acc: 0.6418 - val_loss: 0.8932 - val_acc: 0.6866\n",
      "\n",
      "Epoch 00007: val_loss did not improve from 0.86121\n",
      "Epoch 8/35\n",
      "391/391 [==============================] - 17s 44ms/step - loss: 0.9811 - acc: 0.6571 - val_loss: 0.8179 - val_acc: 0.7138\n",
      "\n",
      "Epoch 00008: val_loss improved from 0.86121 to 0.81794, saving model to /home/jovyan/pyDL/tensoflow/HW6_kerasCNN/saved_models/keras_cifar10_trained_model.h5\n",
      "Epoch 9/35\n",
      "391/391 [==============================] - 17s 44ms/step - loss: 0.9627 - acc: 0.6617 - val_loss: 0.8771 - val_acc: 0.6954\n",
      "\n",
      "Epoch 00009: val_loss did not improve from 0.81794\n",
      "Epoch 10/35\n",
      "391/391 [==============================] - 17s 43ms/step - loss: 0.9305 - acc: 0.6739 - val_loss: 0.8151 - val_acc: 0.7219\n",
      "\n",
      "Epoch 00010: val_loss improved from 0.81794 to 0.81511, saving model to /home/jovyan/pyDL/tensoflow/HW6_kerasCNN/saved_models/keras_cifar10_trained_model.h5\n",
      "Epoch 11/35\n",
      "391/391 [==============================] - 17s 43ms/step - loss: 0.9083 - acc: 0.6786 - val_loss: 0.8646 - val_acc: 0.7043\n",
      "\n",
      "Epoch 00011: val_loss did not improve from 0.81511\n",
      "Epoch 12/35\n",
      "391/391 [==============================] - 17s 43ms/step - loss: 0.8979 - acc: 0.6850 - val_loss: 0.7752 - val_acc: 0.7344\n",
      "\n",
      "Epoch 00012: val_loss improved from 0.81511 to 0.77518, saving model to /home/jovyan/pyDL/tensoflow/HW6_kerasCNN/saved_models/keras_cifar10_trained_model.h5\n",
      "Epoch 13/35\n",
      "391/391 [==============================] - 17s 44ms/step - loss: 0.8761 - acc: 0.6913 - val_loss: 0.7818 - val_acc: 0.7271\n",
      "\n",
      "Epoch 00013: val_loss did not improve from 0.77518\n",
      "Epoch 14/35\n",
      "391/391 [==============================] - 17s 44ms/step - loss: 0.8598 - acc: 0.6993 - val_loss: 0.7330 - val_acc: 0.7504\n",
      "\n",
      "Epoch 00014: val_loss improved from 0.77518 to 0.73303, saving model to /home/jovyan/pyDL/tensoflow/HW6_kerasCNN/saved_models/keras_cifar10_trained_model.h5\n",
      "Epoch 15/35\n",
      "391/391 [==============================] - 17s 44ms/step - loss: 0.8436 - acc: 0.7029 - val_loss: 0.7650 - val_acc: 0.7422\n",
      "\n",
      "Epoch 00015: val_loss did not improve from 0.73303\n",
      "Epoch 16/35\n",
      "391/391 [==============================] - 17s 44ms/step - loss: 0.8402 - acc: 0.7059 - val_loss: 0.7463 - val_acc: 0.7459\n",
      "\n",
      "Epoch 00016: val_loss did not improve from 0.73303\n",
      "Epoch 17/35\n",
      "391/391 [==============================] - 17s 44ms/step - loss: 0.8309 - acc: 0.7092 - val_loss: 0.7243 - val_acc: 0.7538\n",
      "\n",
      "Epoch 00017: val_loss improved from 0.73303 to 0.72429, saving model to /home/jovyan/pyDL/tensoflow/HW6_kerasCNN/saved_models/keras_cifar10_trained_model.h5\n",
      "Epoch 18/35\n",
      "391/391 [==============================] - 17s 44ms/step - loss: 0.8197 - acc: 0.7133 - val_loss: 0.7040 - val_acc: 0.7607\n",
      "\n",
      "Epoch 00018: val_loss improved from 0.72429 to 0.70405, saving model to /home/jovyan/pyDL/tensoflow/HW6_kerasCNN/saved_models/keras_cifar10_trained_model.h5\n",
      "Epoch 19/35\n",
      "391/391 [==============================] - 17s 44ms/step - loss: 0.8171 - acc: 0.7152 - val_loss: 0.7858 - val_acc: 0.7369\n",
      "\n",
      "Epoch 00019: val_loss did not improve from 0.70405\n",
      "Epoch 20/35\n",
      "391/391 [==============================] - 17s 44ms/step - loss: 0.7921 - acc: 0.7251 - val_loss: 0.7322 - val_acc: 0.7560\n",
      "\n",
      "Epoch 00020: val_loss did not improve from 0.70405\n",
      "Epoch 21/35\n",
      "391/391 [==============================] - 17s 44ms/step - loss: 0.7886 - acc: 0.7245 - val_loss: 0.7294 - val_acc: 0.7567\n",
      "\n",
      "Epoch 00021: val_loss did not improve from 0.70405\n"
     ]
    }
   ],
   "source": [
    "model_history = model.fit_generator(datagen.flow(x_train, y_train01[0], batch_size=batch_size), \\\n",
    "                          epochs=epochs, \\\n",
    "#                           shuffle=True, \\\n",
    "                          validation_data=(x_test, y_test01[0]),\\\n",
    "                          workers=4,\\\n",
    "                          callbacks=[checkpoint, earlystop])"
   ]
  },
  {
   "cell_type": "code",
   "execution_count": 30,
   "metadata": {},
   "outputs": [
    {
     "ename": "ValueError",
     "evalue": "`steps_per_epoch=None` is only valid for a generator based on the `keras.utils.Sequence` class. Please specify `steps_per_epoch` or use the `keras.utils.Sequence` class.",
     "output_type": "error",
     "traceback": [
      "\u001b[0;31m---------------------------------------------------------------------------\u001b[0m",
      "\u001b[0;31mValueError\u001b[0m                                Traceback (most recent call last)",
      "\u001b[0;32m<ipython-input-30-cbdb267ad04a>\u001b[0m in \u001b[0;36m<module>\u001b[0;34m()\u001b[0m\n\u001b[1;32m      5\u001b[0m                     \u001b[0mvalidation_data\u001b[0m\u001b[0;34m=\u001b[0m\u001b[0;34m(\u001b[0m\u001b[0mx_test\u001b[0m\u001b[0;34m,\u001b[0m \u001b[0my_test01\u001b[0m\u001b[0;34m[\u001b[0m\u001b[0;36m0\u001b[0m\u001b[0;34m]\u001b[0m\u001b[0;34m)\u001b[0m\u001b[0;34m,\u001b[0m\u001b[0;34m\u001b[0m\u001b[0m\n\u001b[1;32m      6\u001b[0m                     \u001b[0mworkers\u001b[0m\u001b[0;34m=\u001b[0m\u001b[0;36m4\u001b[0m\u001b[0;34m,\u001b[0m\u001b[0;34m\u001b[0m\u001b[0m\n\u001b[0;32m----> 7\u001b[0;31m                     callbacks=[earlystop])\n\u001b[0m\u001b[1;32m      8\u001b[0m \u001b[0;34m\u001b[0m\u001b[0m\n\u001b[1;32m      9\u001b[0m \u001b[0;31m# # loading our save model\u001b[0m\u001b[0;34m\u001b[0m\u001b[0;34m\u001b[0m\u001b[0m\n",
      "\u001b[0;32m/opt/conda/lib/python3.6/site-packages/tensorflow/python/keras/engine/training.py\u001b[0m in \u001b[0;36mfit_generator\u001b[0;34m(self, generator, steps_per_epoch, epochs, verbose, callbacks, validation_data, validation_steps, class_weight, max_queue_size, workers, use_multiprocessing, shuffle, initial_epoch)\u001b[0m\n\u001b[1;32m   1777\u001b[0m         \u001b[0muse_multiprocessing\u001b[0m\u001b[0;34m=\u001b[0m\u001b[0muse_multiprocessing\u001b[0m\u001b[0;34m,\u001b[0m\u001b[0;34m\u001b[0m\u001b[0m\n\u001b[1;32m   1778\u001b[0m         \u001b[0mshuffle\u001b[0m\u001b[0;34m=\u001b[0m\u001b[0mshuffle\u001b[0m\u001b[0;34m,\u001b[0m\u001b[0;34m\u001b[0m\u001b[0m\n\u001b[0;32m-> 1779\u001b[0;31m         initial_epoch=initial_epoch)\n\u001b[0m\u001b[1;32m   1780\u001b[0m \u001b[0;34m\u001b[0m\u001b[0m\n\u001b[1;32m   1781\u001b[0m   def evaluate_generator(self,\n",
      "\u001b[0;32m/opt/conda/lib/python3.6/site-packages/tensorflow/python/keras/engine/training_generator.py\u001b[0m in \u001b[0;36mfit_generator\u001b[0;34m(model, generator, steps_per_epoch, epochs, verbose, callbacks, validation_data, validation_steps, class_weight, max_queue_size, workers, use_multiprocessing, shuffle, initial_epoch)\u001b[0m\n\u001b[1;32m     62\u001b[0m       \u001b[0msteps_per_epoch\u001b[0m \u001b[0;34m=\u001b[0m \u001b[0mlen\u001b[0m\u001b[0;34m(\u001b[0m\u001b[0mgenerator\u001b[0m\u001b[0;34m)\u001b[0m\u001b[0;34m\u001b[0m\u001b[0m\n\u001b[1;32m     63\u001b[0m     \u001b[0;32melse\u001b[0m\u001b[0;34m:\u001b[0m\u001b[0;34m\u001b[0m\u001b[0m\n\u001b[0;32m---> 64\u001b[0;31m       raise ValueError('`steps_per_epoch=None` is only valid for a'\n\u001b[0m\u001b[1;32m     65\u001b[0m                        \u001b[0;34m' generator based on the `keras.utils.Sequence`'\u001b[0m\u001b[0;34m\u001b[0m\u001b[0m\n\u001b[1;32m     66\u001b[0m                        \u001b[0;34m' class. Please specify `steps_per_epoch` or use'\u001b[0m\u001b[0;34m\u001b[0m\u001b[0m\n",
      "\u001b[0;31mValueError\u001b[0m: `steps_per_epoch=None` is only valid for a generator based on the `keras.utils.Sequence` class. Please specify `steps_per_epoch` or use the `keras.utils.Sequence` class."
     ]
    }
   ],
   "source": [
    "# # Fit the model on the batches generated by datagen.flow().\n",
    "# model_history = model.fit_generator(datagen.flow(x_train, y_train01[0],\n",
    "#                                  batch_size=batch_size),\n",
    "#                     epochs=epochs,\n",
    "#                     validation_data=(x_test, y_test01[0]),\n",
    "#                     workers=4,\n",
    "#                     callbacks=[earlystop])\n",
    "\n",
    "# # loading our save model\n",
    "# print(\"Loading trained model\")\n",
    "# model = load_model(model_path)\n",
    "\n",
    "# # Score trained model.\n",
    "# scores = model.evaluate(x_test, y_test, verbose=1)\n",
    "# print('Test loss:', scores[0])\n",
    "# print('Test accuracy:', scores[1])"
   ]
  },
  {
   "cell_type": "code",
   "execution_count": 23,
   "metadata": {},
   "outputs": [],
   "source": [
    "# '''saveing model'''\n",
    "# from tensorflow.keras.models import load_model\n",
    "# # save_model_name = 'cifar10.h5'\n",
    "# model.save(model_name)\n",
    "# # del model"
   ]
  },
  {
   "cell_type": "code",
   "execution_count": 24,
   "metadata": {},
   "outputs": [],
   "source": [
    "# watch nvidia-smi"
   ]
  },
  {
   "cell_type": "code",
   "execution_count": 23,
   "metadata": {},
   "outputs": [
    {
     "name": "stdout",
     "output_type": "stream",
     "text": [
      "Loading trained model\n"
     ]
    }
   ],
   "source": [
    "# loading our save model\n",
    "print(\"Loading trained model\")\n",
    "model = load_model(\"./saved_models/{}\".format(model_name))\n",
    "\n",
    "'''prediction'''\n",
    "y_pred = model.predict_classes(x_test, batch_size, verbose=0)\n",
    "\n",
    "# Score trained model.\n",
    "# scores = model.evaluate(x_test, y_test, verbose=1)\n",
    "# print('Test loss:', y_pred[0])\n",
    "# print('Test accuracy:', y_pred[1])"
   ]
  },
  {
   "cell_type": "code",
   "execution_count": 24,
   "metadata": {},
   "outputs": [
    {
     "data": {
      "image/png": "[encoded data removed]",
      "text/plain": [
       "<Figure size 432x288 with 1 Axes>"
      ]
     },
     "metadata": {
      "needs_background": "light"
     },
     "output_type": "display_data"
    }
   ],
   "source": [
    "training_loss = model_history.history['loss']\n",
    "val_loss = model_history.history['val_loss']\n",
    "\n",
    "plt.plot(training_loss, label=\"training_loss\")\n",
    "plt.plot(val_loss, label=\"validation_loss\")\n",
    "plt.xlabel(\"Epochs\")\n",
    "plt.ylabel(\"Loss\")\n",
    "plt.title(\"Learning Curve\")\n",
    "plt.legend(loc='best')\n",
    "plt.show()"
   ]
  },
  {
   "cell_type": "code",
   "execution_count": 26,
   "metadata": {},
   "outputs": [],
   "source": [
    "# for i in model_history.history.keys():\n",
    "#     print(i)"
   ]
  },
  {
   "cell_type": "code",
   "execution_count": null,
   "metadata": {},
   "outputs": [],
   "source": []
  }
 ],
 "metadata": {
  "kernelspec": {
   "display_name": "Python 3",
   "language": "python",
   "name": "python3"
  },
  "language_info": {
   "codemirror_mode": {
    "name": "ipython",
    "version": 3
   },
   "file_extension": ".py",
   "mimetype": "text/x-python",
   "name": "python",
   "nbconvert_exporter": "python",
   "pygments_lexer": "ipython3",
   "version": "3.6.6"
  }
 },
 "nbformat": 4,
 "nbformat_minor": 2
}
