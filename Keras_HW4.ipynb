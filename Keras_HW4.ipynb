{
 "cells": [
  {
   "cell_type": "code",
   "execution_count": 1,
   "metadata": {},
   "outputs": [
    {
     "name": "stderr",
     "output_type": "stream",
     "text": [
      "/opt/conda/lib/python3.6/site-packages/h5py/__init__.py:36: FutureWarning: Conversion of the second argument of issubdtype from `float` to `np.floating` is deprecated. In future, it will be treated as `np.float64 == np.dtype(float).type`.\n",
      "  from ._conv import register_converters as _register_converters\n"
     ]
    }
   ],
   "source": [
    "import numpy as np\n",
    "import tensorflow as tf\n",
    "import matplotlib.pyplot as plt\n",
    "from sklearn.model_selection import train_test_split\n",
    "import pandas as pd\n",
    "import cv2\n",
    "from tqdm import tqdm_notebook"
   ]
  },
  {
   "cell_type": "code",
   "execution_count": 2,
   "metadata": {},
   "outputs": [],
   "source": [
    "df = pd.read_csv('cat_dog_df.csv')\n",
    "\n",
    "train_df, test_df = train_test_split(df, test_size=0.2, stratify=df.type)\n",
    "\n",
    "def df_to_data(df, picsize):\n",
    "    img_ls = []\n",
    "    label_ls = []\n",
    "\n",
    "    for file_name, label in tqdm_notebook(zip(df.file_name, df.type)):\n",
    "        img = cv2.imread(file_name, cv2.IMREAD_GRAYSCALE)\n",
    "        img = cv2.resize(img, (picsize, picsize))\n",
    "        img_ls.append(img)\n",
    "        \n",
    "        onehot = np.zeros(2)  \n",
    "        onehot[label] = 1\n",
    "        label_ls.append(onehot)\n",
    "\n",
    "    x_data = np.array(img_ls).reshape(len(df), -1)  # flatten image data\n",
    "    x_data = x_data / 255.  # normalization\n",
    "    y_data = np.array(label_ls)\n",
    "    return x_data, y_data"
   ]
  },
  {
   "cell_type": "code",
   "execution_count": 3,
   "metadata": {},
   "outputs": [
    {
     "data": {
      "application/vnd.jupyter.widget-view+json": {
       "model_id": "24c33d3a313448ddb50910a1da61dc10",
       "version_major": 2,
       "version_minor": 0
      },
      "text/plain": [
       "HBox(children=(IntProgress(value=1, bar_style='info', max=1), HTML(value='')))"
      ]
     },
     "metadata": {},
     "output_type": "display_data"
    },
    {
     "name": "stdout",
     "output_type": "stream",
     "text": [
      "\n"
     ]
    },
    {
     "data": {
      "application/vnd.jupyter.widget-view+json": {
       "model_id": "298ce585f36f46f0b9b09a3cdb3bef67",
       "version_major": 2,
       "version_minor": 0
      },
      "text/plain": [
       "HBox(children=(IntProgress(value=1, bar_style='info', max=1), HTML(value='')))"
      ]
     },
     "metadata": {},
     "output_type": "display_data"
    },
    {
     "name": "stdout",
     "output_type": "stream",
     "text": [
      "\n",
      "size of training data: (20000, 4096) (20000, 2)\n",
      "size of testing data: (5000, 4096) (5000, 2)\n"
     ]
    }
   ],
   "source": [
    "picsize = 64\n",
    "X_train, y_train = df_to_data(train_df, picsize)\n",
    "X_test, y_test = df_to_data(test_df, picsize)\n",
    "\n",
    "print('size of training data:', X_train.shape, y_train.shape)\n",
    "print('size of testing data:', X_test.shape, y_test.shape)"
   ]
  },
  {
   "cell_type": "code",
   "execution_count": 4,
   "metadata": {},
   "outputs": [],
   "source": [
    "from tensorflow.keras.layers import Dense"
   ]
  },
  {
   "cell_type": "code",
   "execution_count": 11,
   "metadata": {},
   "outputs": [
    {
     "name": "stdout",
     "output_type": "stream",
     "text": [
      "_________________________________________________________________\n",
      "Layer (type)                 Output Shape              Param #   \n",
      "=================================================================\n",
      "dense_6 (Dense)              (None, 256)               1048832   \n",
      "_________________________________________________________________\n",
      "dense_7 (Dense)              (None, 128)               32896     \n",
      "_________________________________________________________________\n",
      "dense_8 (Dense)              (None, 64)                8256      \n",
      "_________________________________________________________________\n",
      "dense_9 (Dense)              (None, 2)                 130       \n",
      "=================================================================\n",
      "Total params: 1,090,114\n",
      "Trainable params: 1,090,114\n",
      "Non-trainable params: 0\n",
      "_________________________________________________________________\n",
      "None\n"
     ]
    }
   ],
   "source": [
    "model = tf.keras.Sequential()\n",
    "model.add(Dense(256, activation='relu', input_shape=(4096,)))\n",
    "model.add(Dense(128, activation='relu'))\n",
    "model.add(Dense(64, activation='relu'))\n",
    "model.add(Dense(2, activation='softmax')) \n",
    "print(model.summary())"
   ]
  },
  {
   "cell_type": "code",
   "execution_count": 12,
   "metadata": {},
   "outputs": [],
   "source": [
    "model.compile(loss='categorical_crossentropy',\n",
    "              optimizer=tf.keras.optimizers.Adam(),\n",
    "              metrics=['accuracy'])"
   ]
  },
  {
   "cell_type": "code",
   "execution_count": 13,
   "metadata": {},
   "outputs": [],
   "source": [
    "batch_size = 32\n",
    "epochs = 40\n",
    "lr = 0.01\n",
    "train_ratio = 0.9"
   ]
  },
  {
   "cell_type": "code",
   "execution_count": 14,
   "metadata": {},
   "outputs": [
    {
     "name": "stdout",
     "output_type": "stream",
     "text": [
      "Train on 18000 samples, validate on 2000 samples\n",
      "Epoch 1/40\n",
      "18000/18000 [==============================] - 3s 192us/step - loss: 0.6971 - acc: 0.5607 - val_loss: 0.6679 - val_acc: 0.5910\n",
      "Epoch 2/40\n",
      "18000/18000 [==============================] - 2s 120us/step - loss: 0.6742 - acc: 0.5828 - val_loss: 0.6736 - val_acc: 0.5745\n",
      "Epoch 3/40\n",
      "18000/18000 [==============================] - 2s 128us/step - loss: 0.6662 - acc: 0.5942 - val_loss: 0.6643 - val_acc: 0.5980\n",
      "Epoch 4/40\n",
      "18000/18000 [==============================] - 2s 117us/step - loss: 0.6605 - acc: 0.6021 - val_loss: 0.6771 - val_acc: 0.5725\n",
      "Epoch 5/40\n",
      "18000/18000 [==============================] - 2s 117us/step - loss: 0.6599 - acc: 0.6053 - val_loss: 0.6585 - val_acc: 0.6045\n",
      "Epoch 6/40\n",
      "18000/18000 [==============================] - 2s 125us/step - loss: 0.6566 - acc: 0.6129 - val_loss: 0.6656 - val_acc: 0.6075\n",
      "Epoch 7/40\n",
      "18000/18000 [==============================] - 2s 124us/step - loss: 0.6549 - acc: 0.6111 - val_loss: 0.6607 - val_acc: 0.6075\n",
      "Epoch 8/40\n",
      "18000/18000 [==============================] - 2s 117us/step - loss: 0.6540 - acc: 0.6150 - val_loss: 0.6586 - val_acc: 0.6030\n",
      "Epoch 9/40\n",
      "18000/18000 [==============================] - 2s 117us/step - loss: 0.6525 - acc: 0.6144 - val_loss: 0.6609 - val_acc: 0.6025\n",
      "Epoch 10/40\n",
      "18000/18000 [==============================] - 2s 127us/step - loss: 0.6503 - acc: 0.6184 - val_loss: 0.6588 - val_acc: 0.6110\n",
      "Epoch 11/40\n",
      "18000/18000 [==============================] - 2s 120us/step - loss: 0.6519 - acc: 0.6199 - val_loss: 0.6773 - val_acc: 0.5955\n",
      "Epoch 12/40\n",
      "18000/18000 [==============================] - 2s 118us/step - loss: 0.6506 - acc: 0.6189 - val_loss: 0.6689 - val_acc: 0.5925\n",
      "Epoch 13/40\n",
      "18000/18000 [==============================] - 2s 119us/step - loss: 0.6488 - acc: 0.6241 - val_loss: 0.6599 - val_acc: 0.6065\n",
      "Epoch 14/40\n",
      "18000/18000 [==============================] - 2s 128us/step - loss: 0.6460 - acc: 0.6285 - val_loss: 0.6578 - val_acc: 0.6140\n",
      "Epoch 15/40\n",
      "18000/18000 [==============================] - 2s 118us/step - loss: 0.6454 - acc: 0.6274 - val_loss: 0.6563 - val_acc: 0.6100\n",
      "Epoch 16/40\n",
      "18000/18000 [==============================] - 2s 118us/step - loss: 0.6483 - acc: 0.6209 - val_loss: 0.6672 - val_acc: 0.6025\n",
      "Epoch 17/40\n",
      "18000/18000 [==============================] - 2s 117us/step - loss: 0.6439 - acc: 0.6286 - val_loss: 0.6612 - val_acc: 0.6010\n",
      "Epoch 18/40\n",
      "18000/18000 [==============================] - 2s 125us/step - loss: 0.6397 - acc: 0.6324 - val_loss: 0.6591 - val_acc: 0.6120\n",
      "Epoch 19/40\n",
      "18000/18000 [==============================] - 2s 121us/step - loss: 0.6398 - acc: 0.6341 - val_loss: 0.6664 - val_acc: 0.5890\n",
      "Epoch 20/40\n",
      "18000/18000 [==============================] - 2s 117us/step - loss: 0.6407 - acc: 0.6334 - val_loss: 0.6670 - val_acc: 0.6040\n",
      "Epoch 21/40\n",
      "18000/18000 [==============================] - 2s 116us/step - loss: 0.6382 - acc: 0.6354 - val_loss: 0.6641 - val_acc: 0.5980\n",
      "Epoch 22/40\n",
      "18000/18000 [==============================] - 2s 117us/step - loss: 0.6381 - acc: 0.6383 - val_loss: 0.6577 - val_acc: 0.6090\n",
      "Epoch 23/40\n",
      "18000/18000 [==============================] - 2s 121us/step - loss: 0.6360 - acc: 0.6427 - val_loss: 0.6793 - val_acc: 0.5995\n",
      "Epoch 24/40\n",
      "18000/18000 [==============================] - 2s 125us/step - loss: 0.6341 - acc: 0.6381 - val_loss: 0.6703 - val_acc: 0.6110\n",
      "Epoch 25/40\n",
      "18000/18000 [==============================] - 2s 118us/step - loss: 0.6288 - acc: 0.6481 - val_loss: 0.6662 - val_acc: 0.6085\n",
      "Epoch 26/40\n",
      "18000/18000 [==============================] - 2s 117us/step - loss: 0.6318 - acc: 0.6477 - val_loss: 0.6641 - val_acc: 0.6110\n",
      "Epoch 27/40\n",
      "18000/18000 [==============================] - 2s 118us/step - loss: 0.6298 - acc: 0.6468 - val_loss: 0.6665 - val_acc: 0.5935\n",
      "Epoch 28/40\n",
      "18000/18000 [==============================] - 2s 116us/step - loss: 0.6268 - acc: 0.6469 - val_loss: 0.6734 - val_acc: 0.6025\n",
      "Epoch 29/40\n",
      "18000/18000 [==============================] - 2s 117us/step - loss: 0.6237 - acc: 0.6543 - val_loss: 0.6792 - val_acc: 0.6115\n",
      "Epoch 30/40\n",
      "18000/18000 [==============================] - 2s 119us/step - loss: 0.6253 - acc: 0.6532 - val_loss: 0.6919 - val_acc: 0.5805\n",
      "Epoch 31/40\n",
      "18000/18000 [==============================] - 2s 114us/step - loss: 0.6247 - acc: 0.6540 - val_loss: 0.6920 - val_acc: 0.5815\n",
      "Epoch 32/40\n",
      "18000/18000 [==============================] - 2s 108us/step - loss: 0.6230 - acc: 0.6556 - val_loss: 0.6743 - val_acc: 0.5940\n",
      "Epoch 33/40\n",
      "18000/18000 [==============================] - 2s 107us/step - loss: 0.6216 - acc: 0.6567 - val_loss: 0.6721 - val_acc: 0.6070\n",
      "Epoch 34/40\n",
      "18000/18000 [==============================] - 2s 113us/step - loss: 0.6220 - acc: 0.6578 - val_loss: 0.6841 - val_acc: 0.5775\n",
      "Epoch 35/40\n",
      "18000/18000 [==============================] - 2s 121us/step - loss: 0.6150 - acc: 0.6622 - val_loss: 0.6971 - val_acc: 0.5685\n",
      "Epoch 36/40\n",
      "18000/18000 [==============================] - 2s 125us/step - loss: 0.6181 - acc: 0.6587 - val_loss: 0.6849 - val_acc: 0.5830\n",
      "Epoch 37/40\n",
      "18000/18000 [==============================] - 2s 117us/step - loss: 0.6142 - acc: 0.6643 - val_loss: 0.6745 - val_acc: 0.6065\n",
      "Epoch 38/40\n",
      "18000/18000 [==============================] - 2s 116us/step - loss: 0.6148 - acc: 0.6623 - val_loss: 0.6919 - val_acc: 0.5735\n",
      "Epoch 39/40\n",
      "18000/18000 [==============================] - 2s 117us/step - loss: 0.6105 - acc: 0.6655 - val_loss: 0.6872 - val_acc: 0.5785\n",
      "Epoch 40/40\n",
      "18000/18000 [==============================] - 2s 117us/step - loss: 0.6087 - acc: 0.6726 - val_loss: 0.6905 - val_acc: 0.5730\n"
     ]
    }
   ],
   "source": [
    "model_history = model.fit(x=X_train, y=y_train,\n",
    "                          batch_size=batch_size,\n",
    "                          epochs=epochs,\n",
    "                          validation_split=1 - train_ratio)"
   ]
  },
  {
   "cell_type": "code",
   "execution_count": 15,
   "metadata": {},
   "outputs": [],
   "source": [
    "train_loss = model_history.history['loss']\n",
    "train_acc = model_history.history['acc']\n",
    "valid_loss = model_history.history['val_loss']\n",
    "valid_acc = model_history.history['val_acc']"
   ]
  },
  {
   "cell_type": "code",
   "execution_count": 16,
   "metadata": {},
   "outputs": [
    {
     "data": {
      "image/png": "[encoded data removed]",
      "text/plain": [
       "<Figure size 432x288 with 1 Axes>"
      ]
     },
     "metadata": {
      "needs_background": "light"
     },
     "output_type": "display_data"
    },
    {
     "data": {
      "image/png": "[encoded data removed]",
      "text/plain": [
       "<Figure size 432x288 with 1 Axes>"
      ]
     },
     "metadata": {
      "needs_background": "light"
     },
     "output_type": "display_data"
    }
   ],
   "source": [
    "plt.plot(train_loss, 'b', label='train')\n",
    "plt.plot(valid_loss, 'r', label='valid')\n",
    "plt.legend()\n",
    "plt.title(\"Loss\")\n",
    "plt.show()\n",
    "\n",
    "plt.plot(train_acc, 'b', label='train')\n",
    "plt.plot(valid_acc, 'r', label='valid')\n",
    "plt.legend(loc=4)\n",
    "plt.title(\"Accuracy\")\n",
    "plt.show()"
   ]
  },
  {
   "cell_type": "code",
   "execution_count": 17,
   "metadata": {},
   "outputs": [],
   "source": [
    "from sklearn.metrics import accuracy_score"
   ]
  },
  {
   "cell_type": "code",
   "execution_count": 21,
   "metadata": {},
   "outputs": [],
   "source": [
    "y_predict = model.predict_classes(X_test)\n",
    "y_test_label = np.argmax(y_test, axis=1)"
   ]
  },
  {
   "cell_type": "code",
   "execution_count": 22,
   "metadata": {},
   "outputs": [
    {
     "name": "stdout",
     "output_type": "stream",
     "text": [
      "Accuracy in testing data: 0.5738\n"
     ]
    }
   ],
   "source": [
    "print('Accuracy in testing data:', accuracy_score(y_test_label, y_predict))"
   ]
  },
  {
   "cell_type": "code",
   "execution_count": 23,
   "metadata": {},
   "outputs": [
    {
     "data": {
      "text/plain": [
       "[<tf.Variable 'dense/kernel:0' shape=(64, 25) dtype=float32>,\n",
       " <tf.Variable 'dense/bias:0' shape=(25,) dtype=float32>,\n",
       " <tf.Variable 'dense_1/kernel:0' shape=(25, 10) dtype=float32>,\n",
       " <tf.Variable 'dense_1/bias:0' shape=(10,) dtype=float32>,\n",
       " <tf.Variable 'dense_2/kernel:0' shape=(64, 256) dtype=float32>,\n",
       " <tf.Variable 'dense_2/bias:0' shape=(256,) dtype=float32>,\n",
       " <tf.Variable 'dense_3/kernel:0' shape=(256, 128) dtype=float32>,\n",
       " <tf.Variable 'dense_3/bias:0' shape=(128,) dtype=float32>,\n",
       " <tf.Variable 'dense_4/kernel:0' shape=(128, 64) dtype=float32>,\n",
       " <tf.Variable 'dense_4/bias:0' shape=(64,) dtype=float32>,\n",
       " <tf.Variable 'dense_5/kernel:0' shape=(64, 2) dtype=float32>,\n",
       " <tf.Variable 'dense_5/bias:0' shape=(2,) dtype=float32>,\n",
       " <tf.Variable 'Adam/iterations:0' shape=() dtype=int64>,\n",
       " <tf.Variable 'Adam/lr:0' shape=() dtype=float32>,\n",
       " <tf.Variable 'Adam/beta_1:0' shape=() dtype=float32>,\n",
       " <tf.Variable 'Adam/beta_2:0' shape=() dtype=float32>,\n",
       " <tf.Variable 'Adam/decay:0' shape=() dtype=float32>,\n",
       " <tf.Variable 'dense_6/kernel:0' shape=(4096, 256) dtype=float32>,\n",
       " <tf.Variable 'dense_6/bias:0' shape=(256,) dtype=float32>,\n",
       " <tf.Variable 'dense_7/kernel:0' shape=(256, 128) dtype=float32>,\n",
       " <tf.Variable 'dense_7/bias:0' shape=(128,) dtype=float32>,\n",
       " <tf.Variable 'dense_8/kernel:0' shape=(128, 64) dtype=float32>,\n",
       " <tf.Variable 'dense_8/bias:0' shape=(64,) dtype=float32>,\n",
       " <tf.Variable 'dense_9/kernel:0' shape=(64, 2) dtype=float32>,\n",
       " <tf.Variable 'dense_9/bias:0' shape=(2,) dtype=float32>,\n",
       " <tf.Variable 'Adam_1/iterations:0' shape=() dtype=int64>,\n",
       " <tf.Variable 'Adam_1/lr:0' shape=() dtype=float32>,\n",
       " <tf.Variable 'Adam_1/beta_1:0' shape=() dtype=float32>,\n",
       " <tf.Variable 'Adam_1/beta_2:0' shape=() dtype=float32>,\n",
       " <tf.Variable 'Adam_1/decay:0' shape=() dtype=float32>,\n",
       " <tf.Variable 'training/Adam/Variable:0' shape=(4096, 256) dtype=float32>,\n",
       " <tf.Variable 'training/Adam/Variable_1:0' shape=(256,) dtype=float32>,\n",
       " <tf.Variable 'training/Adam/Variable_2:0' shape=(256, 128) dtype=float32>,\n",
       " <tf.Variable 'training/Adam/Variable_3:0' shape=(128,) dtype=float32>,\n",
       " <tf.Variable 'training/Adam/Variable_4:0' shape=(128, 64) dtype=float32>,\n",
       " <tf.Variable 'training/Adam/Variable_5:0' shape=(64,) dtype=float32>,\n",
       " <tf.Variable 'training/Adam/Variable_6:0' shape=(64, 2) dtype=float32>,\n",
       " <tf.Variable 'training/Adam/Variable_7:0' shape=(2,) dtype=float32>,\n",
       " <tf.Variable 'training/Adam/Variable_8:0' shape=(4096, 256) dtype=float32>,\n",
       " <tf.Variable 'training/Adam/Variable_9:0' shape=(256,) dtype=float32>,\n",
       " <tf.Variable 'training/Adam/Variable_10:0' shape=(256, 128) dtype=float32>,\n",
       " <tf.Variable 'training/Adam/Variable_11:0' shape=(128,) dtype=float32>,\n",
       " <tf.Variable 'training/Adam/Variable_12:0' shape=(128, 64) dtype=float32>,\n",
       " <tf.Variable 'training/Adam/Variable_13:0' shape=(64,) dtype=float32>,\n",
       " <tf.Variable 'training/Adam/Variable_14:0' shape=(64, 2) dtype=float32>,\n",
       " <tf.Variable 'training/Adam/Variable_15:0' shape=(2,) dtype=float32>,\n",
       " <tf.Variable 'training/Adam/Variable_16:0' shape=(1,) dtype=float32>,\n",
       " <tf.Variable 'training/Adam/Variable_17:0' shape=(1,) dtype=float32>,\n",
       " <tf.Variable 'training/Adam/Variable_18:0' shape=(1,) dtype=float32>,\n",
       " <tf.Variable 'training/Adam/Variable_19:0' shape=(1,) dtype=float32>,\n",
       " <tf.Variable 'training/Adam/Variable_20:0' shape=(1,) dtype=float32>,\n",
       " <tf.Variable 'training/Adam/Variable_21:0' shape=(1,) dtype=float32>,\n",
       " <tf.Variable 'training/Adam/Variable_22:0' shape=(1,) dtype=float32>,\n",
       " <tf.Variable 'training/Adam/Variable_23:0' shape=(1,) dtype=float32>]"
      ]
     },
     "execution_count": 23,
     "metadata": {},
     "output_type": "execute_result"
    }
   ],
   "source": [
    "tf.global_variables()"
   ]
  },
  {
   "cell_type": "code",
   "execution_count": 24,
   "metadata": {},
   "outputs": [],
   "source": [
    "# save model\n",
    "model.save('./keras_model/my_model.h5')\n",
    "\n",
    "# load model\n",
    "another_model = tf.keras.models.load_model('./keras_model/my_model.h5')"
   ]
  },
  {
   "cell_type": "code",
   "execution_count": 26,
   "metadata": {},
   "outputs": [
    {
     "name": "stdout",
     "output_type": "stream",
     "text": [
      "Accuracy in testing data: 0.5738\n"
     ]
    }
   ],
   "source": [
    "y_predict = another_model.predict_classes(X_test)\n",
    "y_test_label = np.argmax(y_test, axis=1)\n",
    "print('Accuracy in testing data:', accuracy_score(y_test_label, y_predict))"
   ]
  },
  {
   "cell_type": "code",
   "execution_count": null,
   "metadata": {},
   "outputs": [],
   "source": []
  }
 ],
 "metadata": {
  "kernelspec": {
   "display_name": "Python 3",
   "language": "python",
   "name": "python3"
  },
  "language_info": {
   "codemirror_mode": {
    "name": "ipython",
    "version": 3
   },
   "file_extension": ".py",
   "mimetype": "text/x-python",
   "name": "python",
   "nbconvert_exporter": "python",
   "pygments_lexer": "ipython3",
   "version": "3.6.6"
  }
 },
 "nbformat": 4,
 "nbformat_minor": 2
}
